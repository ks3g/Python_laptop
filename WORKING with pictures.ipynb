{
 "metadata": {
  "name": ""
 },
 "nbformat": 3,
 "nbformat_minor": 0,
 "worksheets": [
  {
   "cells": [
    {
     "cell_type": "raw",
     "metadata": {},
     "source": [
      "http://zulko.wordpress.com/category/science/programming/"
     ]
    },
    {
     "cell_type": "code",
     "collapsed": false,
     "input": [
      "import matplotlib.pyplot as plt\n",
      "from matplotlib.widgets import Slider, Button\n",
      "\n",
      "def inputExplorer(f, sliders_properties, wait_for_validation = False):\n",
      "\"\"\" A light GUI to manually explore and tune the outputs of \n",
      "\u00a0\u00a0\u00a0\u00a0\u00a0\u00a0\u00a0\u00a0a function.\n",
      "\u00a0\u00a0\u00a0\u00a0\u00a0\u00a0\u00a0\u00a0slider_properties is a list of dicts (arguments for Slider )\n",
      "\u00a0\u00a0\u00a0\u00a0\u00a0\u00a0\u00a0\u00a0whose keys are in ( label, valmin, valmax, valinit=0.5, \n",
      "\u00a0\u00a0\u00a0\u00a0\u00a0\u00a0\u00a0\u00a0valfmt='%1.2f', closedmin=True, closedmax=True, slidermin=None,\n",
      "\"\"\"\u00a0\u00a0\u00a0\u00a0\u00a0\u00a0\u00a0\u00a0slidermax=None, dragging=True)\n",
      "\u00a0\u00a0\u00a0\u00a0\u00a0\u00a0\u00a0\u00a0\u00a0\n",
      "def volume(x,y,z):\n",
      "\u00a0\u00a0\u00a0\u00a0\u00a0\u00a0\u00a0\u00a0\u00a0\u00a0\u00a0\u00a0return x*y*z\n",
      "\u00a0\u00a0\u00a0\u00a0\u00a0\n",
      "\u00a0\u00a0\u00a0\u00a0\u00a0\u00a0\u00a0\u00a0intervals = [ { 'label' :\u00a0 'width',\u00a0 'valmin': 1 , 'valmax': 5 },\n",
      "\u00a0\u00a0\u00a0\u00a0\u00a0\u00a0\u00a0\u00a0\u00a0\u00a0\u00a0\u00a0\u00a0\u00a0\u00a0\u00a0\u00a0\u00a0{ 'label' :\u00a0 'height',\u00a0 'valmin': 1 , 'valmax': 5 },\n",
      "\u00a0\u00a0\u00a0\u00a0\u00a0\u00a0\u00a0\u00a0\u00a0\u00a0\u00a0\u00a0\u00a0\u00a0\u00a0\u00a0\u00a0\u00a0{ 'label' :\u00a0 'depth',\u00a0 'valmin': 1 , 'valmax': 5 } ]\n",
      "\u00a0\u00a0\u00a0\u00a0\u00a0\u00a0\u00a0\u00a0inputExplorer(volume,intervals)\n",
      "\n",
      "\u00a0\u00a0\u00a0\u00a0\u00a0\u00a0\u00a0\u00a0\u00a0\n",
      "\u00a0\u00a0\u00a0\u00a0nVars = len(sliders_properties)\n",
      "\u00a0\u00a0\u00a0\u00a0slider_width = 1.0/nVars\n",
      "\u00a0\u00a0\u00a0\u00a0print slider_width\n",
      "\u00a0\u00a0\u00a0\u00a0\u00a0\n",
      "\u00a0\u00a0\u00a0\u00a0# CREATE THE CANVAS\n",
      "\u00a0\u00a0\u00a0\u00a0\u00a0\n",
      "\u00a0\u00a0\u00a0\u00a0figure,ax = plt.subplots(1)\n",
      "\u00a0\u00a0\u00a0\u00a0figure.canvas.set_window_title( \"Inputs for '%s'\"%(f.func_name) )\n",
      "\u00a0\u00a0\u00a0\u00a0\u00a0\n",
      "\u00a0\u00a0\u00a0\u00a0# choose an appropriate height\n",
      "\u00a0\u00a0\u00a0\u00a0\u00a0\n",
      "\u00a0\u00a0\u00a0\u00a0width,height = figure.get_size_inches()\n",
      "\u00a0\u00a0\u00a0\u00a0height = min(0.5*nVars,8)\n",
      "\u00a0\u00a0\u00a0\u00a0figure.set_size_inches(width,height,forward = True)\n",
      "\u00a0\u00a0\u00a0\u00a0\u00a0\n",
      "\u00a0\u00a0\u00a0\u00a0\u00a0\n",
      "\u00a0\u00a0\u00a0\u00a0# hide the axis\n",
      "\u00a0\u00a0\u00a0\u00a0ax.set_frame_on(False)\n",
      "\u00a0\u00a0\u00a0\u00a0ax.get_xaxis().set_visible(False)\n",
      "\u00a0\u00a0\u00a0\u00a0ax.get_yaxis().set_visible(False)\n",
      "\u00a0\u00a0\u00a0\u00a0\u00a0\n",
      "\u00a0\n",
      "\u00a0\u00a0\u00a0\u00a0# CREATE THE SLIDERS\n",
      "\u00a0\u00a0\u00a0\u00a0\u00a0\n",
      "\u00a0\u00a0\u00a0\u00a0sliders = []\n",
      "\u00a0\u00a0\u00a0\u00a0\u00a0\n",
      "\u00a0\u00a0\u00a0\u00a0for i, properties in enumerate(sliders_properties):\n",
      "\u00a0\u00a0\u00a0\u00a0\u00a0\u00a0\u00a0\u00a0\u00a0\n",
      "\u00a0\u00a0\u00a0\u00a0\u00a0\u00a0\u00a0\u00a0ax = plt.axes([0.1 , 0.95-0.9*(i+1)*slider_width,\n",
      "\u00a0\u00a0\u00a0\u00a0\u00a0\u00a0\u00a0\u00a0\u00a0\u00a0\u00a0\u00a0\u00a0\u00a0\u00a0\u00a0\u00a0\u00a0\u00a0\u00a0\u00a0\u00a0\u00a00.8 , 0.8* slider_width])\n",
      "\u00a0\u00a0\u00a0\u00a0\u00a0\u00a0\u00a0\u00a0sliders.append( Slider(ax=ax, **properties) )\n",
      "\u00a0\u00a0\u00a0\u00a0\u00a0\n",
      "\u00a0\u00a0\u00a0\u00a0\u00a0\n",
      "\u00a0\u00a0\u00a0\u00a0# CREATE THE CALLBACK FUNCTIONS\n",
      "\u00a0\u00a0\u00a0\u00a0\u00a0\n",
      "\u00a0\u00a0\u00a0\u00a0def on_changed(event) : \n",
      "\u00a0\u00a0\u00a0\u00a0\u00a0\u00a0\u00a0\u00a0\u00a0\n",
      "\u00a0\u00a0\u00a0\u00a0\u00a0\u00a0\u00a0\u00a0res = f(*(s.val for s in sliders))\n",
      "\u00a0\u00a0\u00a0\u00a0\u00a0\u00a0\u00a0\u00a0\u00a0\n",
      "\u00a0\u00a0\u00a0\u00a0\u00a0\u00a0\u00a0\u00a0if res is not None:\n",
      "\u00a0\u00a0\u00a0\u00a0\u00a0\u00a0\u00a0\u00a0\u00a0\u00a0\u00a0\u00a0\u00a0\n",
      "\u00a0\u00a0\u00a0\u00a0\u00a0\u00a0\u00a0\u00a0\u00a0\u00a0\u00a0\u00a0print res\n",
      "\u00a0\u00a0\u00a0\u00a0\u00a0\n",
      "\u00a0\u00a0\u00a0\u00a0def on_key_press(event):\n",
      "\u00a0\u00a0\u00a0\u00a0\u00a0\u00a0\u00a0\u00a0\u00a0\n",
      "\u00a0\u00a0\u00a0\u00a0\u00a0\u00a0\u00a0\u00a0if event.key is 'enter':\n",
      "\u00a0\u00a0\u00a0\u00a0\u00a0\u00a0\u00a0\u00a0\u00a0\u00a0\u00a0\u00a0\u00a0\n",
      "\u00a0\u00a0\u00a0\u00a0\u00a0\u00a0\u00a0\u00a0\u00a0\u00a0\u00a0\u00a0on_changed(event)\u00a0\u00a0 \n",
      "\u00a0\u00a0\u00a0\u00a0\u00a0\n",
      "\u00a0\u00a0\u00a0\u00a0figure.canvas.mpl_connect('key_press_event', on_key_press)\n",
      "\u00a0\u00a0\u00a0\u00a0\u00a0\n",
      "\u00a0\u00a0\u00a0\u00a0# AUTOMATIC UPDATE ?\n",
      "\u00a0\u00a0\u00a0\u00a0\u00a0\n",
      "\u00a0\u00a0\u00a0\u00a0if not wait_for_validation:\n",
      "\u00a0\u00a0\u00a0\u00a0\u00a0\u00a0\u00a0\u00a0\u00a0\n",
      "\u00a0\u00a0\u00a0\u00a0\u00a0\u00a0\u00a0\u00a0for s in sliders :\n",
      "\u00a0\u00a0\u00a0\u00a0\u00a0\u00a0\u00a0\u00a0\u00a0\u00a0\u00a0\u00a0\u00a0\n",
      "\u00a0\u00a0\u00a0\u00a0\u00a0\u00a0\u00a0\u00a0\u00a0\u00a0\u00a0\u00a0s.on_changed(on_changed)\n",
      "\u00a0\u00a0\u00a0\u00a0\u00a0\n",
      "\u00a0\u00a0\u00a0\u00a0\u00a0\n",
      "\u00a0\u00a0\u00a0\u00a0# DISPLAY THE SLIDERS\n",
      "\u00a0\u00a0\u00a0\u00a0\u00a0\n",
      "\u00a0\u00a0\u00a0\u00a0plt.show()\n",
      "    "
     ],
     "language": "python",
     "metadata": {},
     "outputs": [
      {
       "ename": "IndentationError",
       "evalue": "expected an indented block (<ipython-input-7-3a5c475fbd0d>, line 10)",
       "output_type": "pyerr",
       "traceback": [
        "\u001b[0;36m  File \u001b[0;32m\"<ipython-input-7-3a5c475fbd0d>\"\u001b[0;36m, line \u001b[0;32m10\u001b[0m\n\u001b[0;31m    \"\"\"\u00a0\u00a0\u00a0\u00a0\u00a0\u00a0\u00a0\u00a0slidermax=None, dragging=True)\u001b[0m\n\u001b[0m       \u00a0\u00a0\u00a0\u00a0\u00a0\u00a0\u00a0\u00a0                              \n^\u001b[0m\n\u001b[0;31mIndentationError\u001b[0m\u001b[0;31m:\u001b[0m expected an indented block\n"
       ]
      }
     ],
     "prompt_number": 7
    },
    {
     "cell_type": "code",
     "collapsed": false,
     "input": [],
     "language": "python",
     "metadata": {},
     "outputs": []
    }
   ],
   "metadata": {}
  }
 ]
}