{
 "metadata": {
  "name": ""
 },
 "nbformat": 3,
 "nbformat_minor": 0,
 "worksheets": [
  {
   "cells": [
    {
     "cell_type": "raw",
     "metadata": {},
     "source": [
      "http://pypix.com/tools-and-tips/python-functions/"
     ]
    },
    {
     "cell_type": "code",
     "collapsed": false,
     "input": [
      "def function(arg1=\"\",arg2=\"\"):\n",
      "    print \"arg1: {0}\".format(arg1)\n",
      "    print \"arg1: {0}\".format(arg2)\n",
      " \n",
      "function(\"Hello\", \"World\")\n",
      "# prints args1: Hello\n",
      "# prints args1: Hello\n",
      " \n",
      "function()\n",
      "# prints args1:\n",
      "# prints args1:"
     ],
     "language": "python",
     "metadata": {},
     "outputs": []
    },
    {
     "cell_type": "code",
     "collapsed": false,
     "input": [
      "# Now, let\u2019s see how we can build a function that accepts any number of arguments. This time we are going to utilize \n",
      "# TUPLES:\n",
      "def foo(*args): # just use \"*\" to collect all remaining arguments into a tuple\n",
      "    numargs = len(args)\n",
      "    print \"Number of arguments: {0}\".format(numargs)\n",
      "    for i, x in enumerate(args):\n",
      "        print \"Argument {0} is: {1}\".format(i,x)\n",
      "\n",
      "#EXAMPLE\n",
      "foo(3,4)\n",
      "# Number of arguments: 2\n",
      " \n",
      "foo(\"hello\")\n",
      "# Number of arguments: 1\n",
      "# Argument 0 is: hello\n",
      " \n",
      "foo(\"hello\",\"World\",\"Again\")\n",
      "# Number of arguments: 3\n",
      "# Argument 0 is: hello\n",
      "# Argument 1 is: World\n",
      "# Argument 2 is: Again"
     ],
     "language": "python",
     "metadata": {},
     "outputs": [
      {
       "output_type": "stream",
       "stream": "stdout",
       "text": [
        "Number of arguments: 2\n",
        "Argument 0 is: 3\n",
        "Argument 1 is: 4\n",
        "Number of arguments: 1\n",
        "Argument 0 is: hello\n",
        "Number of arguments: 3\n",
        "Argument 0 is: hello\n",
        "Argument 1 is: World\n",
        "Argument 2 is: Again\n"
       ]
      }
     ],
     "prompt_number": 5
    },
    {
     "cell_type": "raw",
     "metadata": {},
     "source": [
      "Using Glob() to Find Files\n",
      "Many Python functions have long and descriptive names. However it may be hard to tell what a function named \n",
      "glob()\n",
      " does unless you are already familiar with that term from elsewhere.\n",
      "Think of it like a more capable version of the \n",
      "listdir()\n",
      " function. It can let you search for files by using patterns."
     ]
    },
    {
     "cell_type": "code",
     "collapsed": false,
     "input": [
      "import glob\n",
      " \n",
      "# get all py files\n",
      "files = glob.glob('*.py')\n",
      "print files\n",
      " \n",
      "# Output\n",
      "# ['arg.py', 'g.py', 'shut.py', 'test.py']"
     ],
     "language": "python",
     "metadata": {},
     "outputs": []
    },
    {
     "cell_type": "raw",
     "metadata": {},
     "source": [
      "You can fetch multiple file types like this:"
     ]
    },
    {
     "cell_type": "code",
     "collapsed": false,
     "input": [
      "import itertools as it, glob\n",
      " \n",
      "def multiple_file_types(*patterns):\n",
      "    return it.chain.from_iterable(glob.glob(pattern) for pattern in patterns)\n",
      " \n",
      "for filename in multiple_file_types(\"*.txt\", \"*.py\"): # add as many filetype arguements\n",
      "    print filename\n",
      " \n",
      "# output\n",
      "#=========#\n",
      "# test.txt\n",
      "# arg.py\n",
      "# g.py\n",
      "# shut.py\n",
      "# test.py"
     ],
     "language": "python",
     "metadata": {},
     "outputs": []
    }
   ],
   "metadata": {}
  }
 ]
}