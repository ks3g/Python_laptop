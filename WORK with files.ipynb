{
 "metadata": {
  "name": ""
 },
 "nbformat": 3,
 "nbformat_minor": 0,
 "worksheets": [
  {
   "cells": [
    {
     "cell_type": "code",
     "collapsed": false,
     "input": [
      "Using Glob() to Find Files\n",
      "Many Python functions have long and descriptive names. However it may be hard to tell what a function named \n",
      "glob()  does unless you are already familiar with that term from elsewhere.\n",
      "Think of it like a more capable version of the listdir()  function. It can let you search for files by using patterns."
     ],
     "language": "python",
     "metadata": {},
     "outputs": []
    },
    {
     "cell_type": "code",
     "collapsed": false,
     "input": [
      "import glob\n",
      " \n",
      "# get all py files\n",
      "files = glob.glob('*.py')\n",
      "print files\n",
      "\n",
      "# Output\n",
      "# ['arg.py', 'g.py', 'shut.py', 'test.py']\n"
     ],
     "language": "python",
     "metadata": {},
     "outputs": []
    },
    {
     "cell_type": "raw",
     "metadata": {
      "slideshow": {
       "slide_type": "notes"
      }
     },
     "source": [
      "You can fetch multiple file types like this:"
     ]
    },
    {
     "cell_type": "code",
     "collapsed": false,
     "input": [
      "import itertools as it, glob\n",
      " \n",
      "def multiple_file_types(*patterns):\n",
      "    return it.chain.from_iterable(glob.glob(pattern) for pattern in patterns)\n",
      " \n",
      "for filename in multiple_file_types(\"*.txt\", \"*.py\"): # add as many filetype arguements\n",
      "    print filename\n",
      " \n",
      "# output\n",
      "#=========#\n",
      "# test.txt\n",
      "# arg.py\n",
      "# g.py\n",
      "# shut.py\n",
      "# test.py"
     ],
     "language": "python",
     "metadata": {},
     "outputs": []
    },
    {
     "cell_type": "raw",
     "metadata": {},
     "source": [
      "If you want to get the  full path to each file, you can just call the realpath()  function on the returned values:"
     ]
    }
   ],
   "metadata": {}
  }
 ]
}