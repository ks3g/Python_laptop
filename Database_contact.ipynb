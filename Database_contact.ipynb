{
 "metadata": {
  "name": ""
 },
 "nbformat": 3,
 "nbformat_minor": 0,
 "worksheets": [
  {
   "cells": [
    {
     "cell_type": "code",
     "collapsed": false,
     "input": [
      "\"\"\"\n",
      "Author : Jay Rambhia\n",
      "email : jayrambhia777@gmail.com\n",
      "Git : https://github.com/jayrambhia\n",
      "gist : https://gist.github.com/jayrambhia\n",
      "=============================================\n",
      "Name : contacts\n",
      "Repo : Contacts\n",
      "Git : https://github.com/jayrambhia/Contacts\n",
      "version 0.3\n",
      "\"\"\"\n",
      "#            Copyright (c) 2012 Jay Rambhia\n",
      "\n",
      "# Permission is hereby granted, free of charge, to any person obtaining \n",
      "# a copy of this software and associated documentation files (the \"Software\"), \n",
      "# to deal in the Software without restriction, including without limitation\n",
      "# the rights to use, copy, modify, merge, publish, distribute, sublicense,\n",
      "# and/or sell copies of the Software, and to permit persons to whom the \n",
      "# Software is furnished to do so, subject to the following conditions:\n",
      "\n",
      "# The above copyright notice and this permission notice shall be included \n",
      "# in all copies or substantial portions of the Software.\n",
      "\n",
      "# THE SOFTWARE IS PROVIDED \"AS IS\", WITHOUT WARRANTY OF ANY KIND, \n",
      "# EXPRESS OR IMPLIED, INCLUDING BUT NOT LIMITED TO THE WARRANTIES OF \n",
      "# MERCHANTABILITY, FITNESS FOR A PARTICULAR PURPOSE AND NONINFRINGEMENT. \n",
      "# IN NO EVENT SHALL THE AUTHORS OR COPYRIGHT HOLDERS BE LIABLE FOR ANY \n",
      "# CLAIM, DAMAGES OR OTHER LIABILITY, WHETHER IN AN ACTION OF CONTRACT, \n",
      "# TORT OR OTHERWISE, ARISING FROM, OUT OF OR IN CONNECTION WITH THE \n",
      "# SOFTWARE OR THE USE OR OTHER DEALINGS IN THE SOFTWARE.\n",
      "\n",
      "import re\n",
      "import dbm\n",
      "import pickle\n",
      "\n",
      "def search_contact(f):\n",
      "  count=0\n",
      "  str1 = raw_input('Enter the name:\\t')\n",
      "  print ''\n",
      "  temp_str1=str1.lower()\n",
      "  name=sorted(f.keys())\n",
      "  for i in range(len(f)):\n",
      "    result = None\n",
      "    search_name = name[i].lower()\n",
      "    result = re.search('.*'+temp_str1+'.*',search_name)\n",
      "    if result:\n",
      "      try:\n",
      "        print name[i], pickle.loads(f[name[i]])[0]\n",
      "        count+=1\n",
      "      except KeyError:\n",
      "        print 'KeyError'\n",
      "  if count==0:\n",
      "    print '\\n' + str1 + ' not found\\n' \n",
      "  print ''\n",
      "  \n",
      "  return\n",
      "  \n",
      "def add_contact(f):\n",
      "\n",
      "  name = str(raw_input('\\nName: '))\n",
      "  value = str(raw_input('Number: '))\n",
      "  \n",
      "  if value.isdigit():\n",
      "    if name in f.keys():\n",
      "      print 'exists'\n",
      "      contact_list_str = f[name]\n",
      "      contact_list = pickle.loads(contact_list_str)\n",
      "      num_list = contact_list[0]\n",
      "      num_list.append(value)\n",
      "      contact_list[0] = num_list\n",
      "      contact_list_str = pickle.dumps(contact_list)\n",
      "      f[name] = contact_list_str\n",
      "    else:\n",
      "      contact_list=[]\n",
      "      num = []\n",
      "      num.append(value)\n",
      "      contact_list = [num,get_email(),get_DOB(),get_tags()]\n",
      "      f[name] = pickle.dumps(contact_list) \n",
      "    print '\\n' + name + ' added to contacts.\\n'\n",
      "  else:\n",
      "    print 'Please enter only numbers.' + name + ' not added in contacts.'\n",
      "\n",
      "  return f\n",
      "  \n",
      "def get_tags():\n",
      "  tags = str(raw_input('Enter tags(separated by comma): '))\n",
      "  if tags:\n",
      "    tags = tags.split(',')\n",
      "    for i in range(len(tags)):\n",
      "      if tags[i].startswith(' '):\n",
      "        tags[i] = tags[i][1:]\n",
      "  \n",
      "  return tags\n",
      "  \n",
      "def show_all_tags(f):\n",
      "  name = f.keys()\n",
      "  tags=[]\n",
      "  for i in range(len(name)):\n",
      "    contact_data_string = f[name[i]]\n",
      "    contact_data = pickle.loads(contact_data_string)\n",
      "    for j in range(len(contact_data[3])):\n",
      "      tags.append(contact_data[3][j])\n",
      "  tags = list(set(tags))\n",
      "  for i in range(len(tags)):\n",
      "    print tags[i]\n",
      "  return\n",
      "\n",
      "def search_with_tag(f):\n",
      "  tag = raw_input('Enter Tag: ')\n",
      "  name = sorted(f.keys())\n",
      "  for i in range(len(name)):\n",
      "    contact_data_string = f[name[i]]\n",
      "    contact_data = pickle.loads(contact_data_string)\n",
      "    for j in range(len(contact_data[3])):\n",
      "      if tag in contact_data[3][j]:\n",
      "        print name[i], contact_data[0]\n",
      "        break\n",
      "  return\n",
      "    \n",
      "def get_email():\n",
      "  print 'Enter email id(Enter to exit)'\n",
      "  str1 = raw_input()\n",
      "  return str1\n",
      "  \n",
      "def get_DOB():\n",
      "  print 'Enter Date of Birth(Enter to exit)'\n",
      "  str1 = raw_input('(Month Date Year):\\n')\n",
      "  return str1\n",
      "\n",
      "def show_list(f):\n",
      "  name = sorted(f.keys())\n",
      "  for i in range(len(name)):\n",
      "    print name[i], pickle.loads(f[name[i]])[0]\n",
      "  return\n",
      "  \n",
      "def show_alpha_list(f,c):\n",
      "  new_dic={}\n",
      "  name = (f.keys())\n",
      "  print 'First Name:'\n",
      "  for i in range(len(f)):\n",
      "    result = None\n",
      "    if c == name[i][0].lower():\n",
      "      new_dic[name[i]] = f[name[i]]\n",
      "  show_list(new_dic)\n",
      "  print ''\n",
      "  del new_dic\n",
      "  new_dic={}\n",
      "  print 'Last Name:'\n",
      "  for i in range(len(f)):\n",
      "    result = None\n",
      "    search_name = name[i].lower()\n",
      "    result = re.search('\\s' + c +'\\S*',search_name)\n",
      "    if result:\n",
      "      new_dic[name[i]] = f[name[i]]\n",
      "  show_list(new_dic)\n",
      "  print ''\n",
      "  return\n",
      "  \n",
      "def get_int(str1=''):\n",
      "  while True:\n",
      "    try:\n",
      "      n=int(raw_input(str1))\n",
      "      return n\n",
      "      break\n",
      "    except ValueError:\n",
      "      print 'Enter int'\n",
      "      \n",
      "def main():\n",
      "  n=42\n",
      "  f=dbm.open('contacts_new_1','c')\n",
      "  \n",
      "  while n!= 7:\n",
      "    print '1. Add contact\\n2. Search contact\\n3. Show All contacts\\n4. List according to char\\n5. Search according to tag\\n6. Show All Tags\\n7. Quit'\n",
      "    n = get_int('Choose an option: ')\n",
      "    if n==1:\n",
      "      f = add_contact(f)\n",
      "    elif n==2:\n",
      "      search_contact(f)\n",
      "    elif n==7:\n",
      "      print 'Quit.\\n'\n",
      "      return\n",
      "    elif n==3:\n",
      "      show_list(f)\n",
      "    elif n==6:\n",
      "      show_all_tags(f)\n",
      "    elif n==5:\n",
      "      search_with_tag(f)\n",
      "    elif n==4:\n",
      "      c=raw_input('Enter the character.')\n",
      "      show_alpha_list(f,c)\n",
      "    \n",
      "    else:\n",
      "      print 'Please enter a valid option'\n",
      "      \n",
      "  return\n",
      "if __name__ == '__main__':\n",
      "  main()\n"
     ],
     "language": "python",
     "metadata": {},
     "outputs": [
      {
       "output_type": "stream",
       "stream": "stdout",
       "text": [
        "1. Add contact\n",
        "2. Search contact\n",
        "3. Show All contacts\n",
        "4. List according to char\n",
        "5. Search according to tag\n",
        "6. Show All Tags\n",
        "7. Quit\n"
       ]
      },
      {
       "name": "stdout",
       "output_type": "stream",
       "stream": "stdout",
       "text": [
        "Choose an option: 1\n"
       ]
      },
      {
       "name": "stdout",
       "output_type": "stream",
       "stream": "stdout",
       "text": [
        "\n",
        "Name: Gunni\n"
       ]
      },
      {
       "name": "stdout",
       "output_type": "stream",
       "stream": "stdout",
       "text": [
        "Number: 3333\n"
       ]
      },
      {
       "output_type": "stream",
       "stream": "stdout",
       "text": [
        "Enter email id(Enter to exit)\n"
       ]
      },
      {
       "name": "stdout",
       "output_type": "stream",
       "stream": "stdout",
       "text": [
        "gh@gh.com\n"
       ]
      },
      {
       "output_type": "stream",
       "stream": "stdout",
       "text": [
        "Enter Date of Birth(Enter to exit)\n"
       ]
      },
      {
       "name": "stdout",
       "output_type": "stream",
       "stream": "stdout",
       "text": [
        "(Month Date Year):\n",
        "10032002\n"
       ]
      },
      {
       "name": "stdout",
       "output_type": "stream",
       "stream": "stdout",
       "text": [
        "Enter tags(separated by comma): friend,haha\n"
       ]
      },
      {
       "output_type": "stream",
       "stream": "stdout",
       "text": [
        "\n",
        "Gunni added to contacts.\n",
        "\n",
        "1. Add contact\n",
        "2. Search contact\n",
        "3. Show All contacts\n",
        "4. List according to char\n",
        "5. Search according to tag\n",
        "6. Show All Tags\n",
        "7. Quit\n"
       ]
      },
      {
       "name": "stdout",
       "output_type": "stream",
       "stream": "stdout",
       "text": [
        "Choose an option: 7\n"
       ]
      },
      {
       "output_type": "stream",
       "stream": "stdout",
       "text": [
        "Quit.\n",
        "\n"
       ]
      }
     ],
     "prompt_number": 3
    },
    {
     "cell_type": "code",
     "collapsed": false,
     "input": [],
     "language": "python",
     "metadata": {},
     "outputs": []
    }
   ],
   "metadata": {}
  }
 ]
}