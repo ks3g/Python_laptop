{
 "metadata": {
  "name": ""
 },
 "nbformat": 3,
 "nbformat_minor": 0,
 "worksheets": [
  {
   "cells": [
    {
     "cell_type": "code",
     "collapsed": false,
     "input": [
      "# https://yuji.wordpress.com/2008/05/14/python-basics-of-python-dictionary-and-looping-through-them/\n",
      "my_list = [1, 2, 3]\n",
      "my_list[1]\n"
     ],
     "language": "python",
     "metadata": {},
     "outputs": [
      {
       "metadata": {},
       "output_type": "pyout",
       "prompt_number": 4,
       "text": [
        "2"
       ]
      }
     ],
     "prompt_number": 4
    },
    {
     "cell_type": "code",
     "collapsed": false,
     "input": [
      "# My example of telephon book\n",
      "my_dict = {\n",
      "    'gunni': '123',\n",
      "    'kolja': '456',\n",
      "    'werner': '78910'\n",
      "    }\n",
      "my_dict['gunni']\n"
     ],
     "language": "python",
     "metadata": {},
     "outputs": [
      {
       "metadata": {},
       "output_type": "pyout",
       "prompt_number": 2,
       "text": [
        "'123'"
       ]
      }
     ],
     "prompt_number": 2
    },
    {
     "cell_type": "code",
     "collapsed": false,
     "input": [
      "my_dict = {\n",
      "    'gunni': '123',\n",
      "    'kolja': '456',\n",
      "    'werner': '78910'\n",
      "    }\n",
      "for item in my_dict:\n",
      "    print item    \n"
     ],
     "language": "python",
     "metadata": {},
     "outputs": [
      {
       "output_type": "stream",
       "stream": "stdout",
       "text": [
        "gunni\n",
        "werner\n",
        "kolja\n"
       ]
      }
     ],
     "prompt_number": 10
    },
    {
     "cell_type": "code",
     "collapsed": false,
     "input": [
      "my_dict = {\n",
      "    'gunni': '123',\n",
      "    'kolja': '456',\n",
      "    'werner': '78910'\n",
      "    }\n",
      "for item in my_dict:\n",
      "    print my_dict[item]    \n"
     ],
     "language": "python",
     "metadata": {},
     "outputs": [
      {
       "output_type": "stream",
       "stream": "stdout",
       "text": [
        "123\n",
        "78910\n",
        "456\n"
       ]
      }
     ],
     "prompt_number": 9
    },
    {
     "cell_type": "code",
     "collapsed": false,
     "input": [
      "for key, value in my_dict.items(): # returns the dictionary as a list of value pairs -- a tuple.\n",
      "    print key, value"
     ],
     "language": "python",
     "metadata": {},
     "outputs": [
      {
       "output_type": "stream",
       "stream": "stdout",
       "text": [
        "gunni 123\n",
        "werner 78910\n",
        "kolja 456\n"
       ]
      }
     ],
     "prompt_number": 11
    },
    {
     "cell_type": "code",
     "collapsed": false,
     "input": [
      "for key, value in my_dict.iteritems():\n",
      "    print key, value\n",
      " \n",
      "for key in my_dict.iterkeys():\n",
      "    print key\n",
      "     \n",
      "for value in my_dict.itervalues():\n",
      "    print value\n"
     ],
     "language": "python",
     "metadata": {},
     "outputs": [
      {
       "output_type": "stream",
       "stream": "stdout",
       "text": [
        "gunni 123\n",
        "werner 78910\n",
        "kolja 456\n",
        "gunni\n",
        "werner\n",
        "kolja\n",
        "123\n",
        "78910\n",
        "456\n"
       ]
      }
     ],
     "prompt_number": 12
    },
    {
     "cell_type": "code",
     "collapsed": false,
     "input": [],
     "language": "python",
     "metadata": {},
     "outputs": []
    }
   ],
   "metadata": {}
  }
 ]
}